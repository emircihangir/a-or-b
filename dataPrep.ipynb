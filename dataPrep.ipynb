{
 "cells": [
  {
   "cell_type": "code",
   "execution_count": 5,
   "metadata": {},
   "outputs": [],
   "source": [
    "import cv2\n",
    "import os\n",
    "\n",
    "dir = \"dataset/test/b/\"\n",
    "\n",
    "counter = 1\n",
    "arr = os.listdir(dir)\n",
    "for img in arr:\n",
    "    input_image = cv2.imread(dir + img)\n",
    "\n",
    "    # Convert the image to grayscale\n",
    "    gray_image = cv2.cvtColor(input_image, cv2.COLOR_BGR2GRAY)\n",
    "\n",
    "    counter2 = 0\n",
    "    while True:\n",
    "        _, bw_image = cv2.threshold(gray_image, 127 + (20 * counter2), 255, cv2.THRESH_BINARY)\n",
    "\n",
    "        # Save the result\n",
    "        cv2.imwrite(\"output.png\", bw_image)\n",
    "\n",
    "        i = input(\"\")\n",
    "        if i == \"\" or i == \"x\": break\n",
    "        elif i == \"w\": \n",
    "            counter2 += 1\n",
    "        elif i == \"s\":\n",
    "            counter2 -= 1\n",
    "\n",
    "    if i == \"x\": break\n",
    "    cv2.imwrite(\"b\" + str(counter) + \".png\", bw_image)\n",
    "    counter += 1\n"
   ]
  },
  {
   "cell_type": "code",
   "execution_count": 55,
   "metadata": {},
   "outputs": [
    {
     "data": {
      "text/plain": [
       "True"
      ]
     },
     "execution_count": 55,
     "metadata": {},
     "output_type": "execute_result"
    }
   ],
   "source": [
    "import cv2\n",
    "import os\n",
    "\n",
    "input_image = cv2.imread(\"input.jpg\")\n",
    "\n",
    "# Convert the image to grayscale\n",
    "gray_image = cv2.cvtColor(input_image, cv2.COLOR_BGR2GRAY)\n",
    "\n",
    "_, bw_image = cv2.threshold(gray_image, 50, 255, cv2.THRESH_BINARY)\n",
    "blurred_image = cv2.GaussianBlur(bw_image, (3,3), 0)\n",
    "\n",
    "# Save the result\n",
    "cv2.imwrite(\"output2.png\", blurred_image)"
   ]
  },
  {
   "cell_type": "code",
   "execution_count": 3,
   "metadata": {},
   "outputs": [
    {
     "data": {
      "text/plain": [
       "[3, 4, 5]"
      ]
     },
     "execution_count": 3,
     "metadata": {},
     "output_type": "execute_result"
    }
   ],
   "source": [
    "a = [0,1,2,3,4,5]\n",
    "a[3:]"
   ]
  }
 ],
 "metadata": {
  "kernelspec": {
   "display_name": "Python 3",
   "language": "python",
   "name": "python3"
  },
  "language_info": {
   "codemirror_mode": {
    "name": "ipython",
    "version": 3
   },
   "file_extension": ".py",
   "mimetype": "text/x-python",
   "name": "python",
   "nbconvert_exporter": "python",
   "pygments_lexer": "ipython3",
   "version": "3.10.2"
  }
 },
 "nbformat": 4,
 "nbformat_minor": 2
}
