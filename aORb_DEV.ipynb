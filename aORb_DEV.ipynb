{
 "cells": [
  {
   "cell_type": "code",
   "execution_count": null,
   "metadata": {},
   "outputs": [],
   "source": [
    "import tensorflow as tf\n",
    "import keras\n",
    "from keras import layers\n",
    "import keras_preprocessing.image as image\n",
    "from keras_preprocessing.image import ImageDataGenerator\n",
    "import numpy as np\n",
    "import cv2\n",
    "import matplotlib.pyplot as plt"
   ]
  },
  {
   "cell_type": "code",
   "execution_count": null,
   "metadata": {},
   "outputs": [],
   "source": [
    "trainDIR = \"dataset/train\"\n",
    "trainGenerator = ImageDataGenerator(rescale=1/255).flow_from_directory(\n",
    "    trainDIR,\n",
    "    target_size=(2992,2992),\n",
    "    class_mode=\"binary\",\n",
    "    batch_size=1,\n",
    "    color_mode=\"grayscale\"\n",
    ")\n",
    "\n",
    "valDIR = \"dataset/validation\"\n",
    "valGenerator = ImageDataGenerator(rescale=1/255).flow_from_directory(\n",
    "    valDIR,\n",
    "    target_size=(2992,2992),\n",
    "    class_mode=\"binary\",\n",
    "    batch_size=1,\n",
    "    color_mode=\"grayscale\"\n",
    ")"
   ]
  },
  {
   "cell_type": "code",
   "execution_count": null,
   "metadata": {},
   "outputs": [],
   "source": [
    "model = keras.models.Sequential([\n",
    "    layers.Conv2D(8, (3,3), input_shape=(2992,2992, 1), activation=\"relu\"),\n",
    "    layers.MaxPooling2D(8,8),\n",
    "    layers.Conv2D(16, (3,3), activation=\"relu\"),\n",
    "    layers.MaxPooling2D(8,8),\n",
    "    layers.Conv2D(32, (3,3), activation=\"relu\"),\n",
    "    layers.MaxPooling2D(8,8),\n",
    "    layers.Conv2D(64, (3,3), activation=\"relu\"),\n",
    "    layers.Flatten(),\n",
    "    layers.Dense(32, activation=\"relu\"),\n",
    "    layers.Dense(1, activation=\"sigmoid\")\n",
    "])\n",
    "model.compile(loss='binary_crossentropy', optimizer=keras.optimizers.RMSprop(), metrics=[\"accuracy\"])\n",
    "model.summary()"
   ]
  },
  {
   "cell_type": "code",
   "execution_count": null,
   "metadata": {},
   "outputs": [],
   "source": [
    "tensorboard = keras.callbacks.TensorBoard(log_dir=\"/Users/muhammedcihangir/Projects/Python/tensorflow/aORb/logs\")\n",
    "mc = keras.callbacks.ModelCheckpoint(\n",
    "    filepath=\"stable3.keras\",\n",
    "    monitor=\"val_loss\",\n",
    "    save_best_only=True\n",
    ")\n",
    "es = keras.callbacks.EarlyStopping(\n",
    "    monitor=\"val_loss\",\n",
    "    patience=2,\n",
    ")"
   ]
  },
  {
   "cell_type": "code",
   "execution_count": null,
   "metadata": {},
   "outputs": [],
   "source": [
    "history = model.fit(trainGenerator, validation_data=valGenerator, epochs=50, batch_size=1, callbacks=[tensorboard, mc, es])"
   ]
  },
  {
   "cell_type": "markdown",
   "metadata": {},
   "source": [
    "### Model Testing"
   ]
  },
  {
   "cell_type": "code",
   "execution_count": null,
   "metadata": {},
   "outputs": [],
   "source": [
    "model = keras.models.load_model(\"stable3.keras\")\n",
    "testDIR = \"dataset/test\"\n",
    "testGenerator = ImageDataGenerator(rescale=1/255).flow_from_directory(\n",
    "    testDIR,\n",
    "    target_size=(2992,2992),\n",
    "    class_mode=\"binary\",\n",
    "    batch_size=1,\n",
    "    color_mode=\"grayscale\"\n",
    ")\n",
    "\n",
    "model.evaluate(testGenerator)"
   ]
  },
  {
   "cell_type": "code",
   "execution_count": null,
   "metadata": {},
   "outputs": [],
   "source": [
    "#model.save(\"stable2.keras\")"
   ]
  }
 ],
 "metadata": {
  "kernelspec": {
   "display_name": "Python 3",
   "language": "python",
   "name": "python3"
  },
  "language_info": {
   "codemirror_mode": {
    "name": "ipython",
    "version": 3
   },
   "file_extension": ".py",
   "mimetype": "text/x-python",
   "name": "python",
   "nbconvert_exporter": "python",
   "pygments_lexer": "ipython3",
   "version": "3.10.2"
  }
 },
 "nbformat": 4,
 "nbformat_minor": 2
}
